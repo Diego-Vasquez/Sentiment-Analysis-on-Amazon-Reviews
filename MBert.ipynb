{
  "cells": [
    {
      "cell_type": "code",
      "execution_count": null,
      "metadata": {
        "colab": {
          "base_uri": "https://localhost:8080/"
        },
        "id": "_Jvv1SasJSI8",
        "outputId": "497a50f1-3f22-438e-9446-90b34933e5df"
      },
      "outputs": [],
      "source": [
        "!pip install transformers\n",
        "!pip install torchmetrics"
      ]
    },
    {
      "cell_type": "code",
      "execution_count": null,
      "metadata": {
        "id": "8OzumX5OI0S8"
      },
      "outputs": [],
      "source": [
        "import torch\n",
        "from torch import nn, optim\n",
        "from transformers import pipeline\n",
        "from transformers import BertTokenizer, BertModel,  AdamW, get_linear_schedule_with_warmup\n",
        "from torch.utils.data import Dataset, DataLoader\n",
        "from torchmetrics import F1\n",
        "from sklearn.model_selection import train_test_split\n",
        "import pandas as pd\n",
        "import numpy as np\n"
      ]
    },
    {
      "cell_type": "code",
      "execution_count": null,
      "metadata": {
        "id": "KKizucrYZvNM"
      },
      "outputs": [],
      "source": [
        "url_train = 'ttps://drive.google.com/file/d/1OuZDURMv7uA692UxR2nfgzGUi0qcyw2Y/view?usp=sharing'\n",
        "\n",
        "url_validation = 'https://drive.google.com/file/d/1kXG0kJl3_0NdnQmvBzYpvBcJEnXAFkcj/view?usp=sharing'\n",
        "\n",
        "url_test = 'https://drive.google.com/file/d/1DQM2OX-WAqPDsuQutJjgl7ebOKsmn7xp/view?usp=sharing'\n",
        "\n",
        "def path_download_csv(url):\n",
        "    return 'https://drive.google.com/uc?export=download&id='+url.split('/')[-2]"
      ]
    },
    {
      "cell_type": "code",
      "execution_count": null,
      "metadata": {
        "colab": {
          "base_uri": "https://localhost:8080/"
        },
        "id": "P3UpJKpEJ9n9",
        "outputId": "71c7ff3b-ba3f-41c4-88e9-ad1c897f8cca"
      },
      "outputs": [
        {
          "name": "stdout",
          "output_type": "stream",
          "text": [
            "cuda:0\n"
          ]
        }
      ],
      "source": [
        "RANDOM_SEED = 42\n",
        "MAX_LEN = 200\n",
        "BATCH_SIZE=16\n",
        "NCLASSES= 3\n",
        "\n",
        "np.random.seed(RANDOM_SEED)\n",
        "torch.manual_seed(RANDOM_SEED)\n",
        "device=torch.device(\"cuda:0\" if torch.cuda.is_available() else \"cpu\")\n",
        "print(device)"
      ]
    },
    {
      "cell_type": "code",
      "execution_count": null,
      "metadata": {
        "id": "5snur9g0KiTR"
      },
      "outputs": [],
      "source": [
        "train = pd.read_csv((path_download_csv(url_train))\n",
        "validation = pd.read_csv(path_download_csv(url_validation))\n",
        "test = pd.read_csv(path_download_csv(url_test))"
      ]
    },
    {
      "cell_type": "code",
      "execution_count": null,
      "metadata": {},
      "outputs": [],
      "source": [
        "test"
      ]
    },
    {
      "cell_type": "code",
      "execution_count": null,
      "metadata": {
        "colab": {
          "base_uri": "https://localhost:8080/",
          "height": 145,
          "referenced_widgets": [
            "4767c3462e9a46faabdd98124b61e65d",
            "d29bd480d58e4417b00ebf42b5df13a7",
            "0e2935e135864eecb506337489f87f4b",
            "b30d611593914f09aa4130694a2af489",
            "c4550ab0d69e4a118230967b746ca66e",
            "5623ad38a8dc4c9c8433663b844f0ed1",
            "4bfd823cf5534e5589f6c8c563c8fe6e",
            "700b57773de84088a2da7ecf440621cd",
            "e794bfd91f114632b8c96523379bf705",
            "cdc12d18892e4e4590c938e382d8bbd4",
            "0034b70ef08544c5829d0d42d8cfb124",
            "7137f02fe3de4fceb6b80278214caef9",
            "7147357b502e49559b63708b20d0c522",
            "ac19a957ca644dbf93ed65cc3948adab",
            "088ffd3b816d4aa29b1275348febd34c",
            "39b827d8fa1a4611983908474eb8bb7f",
            "e477fa6293694c8aad1e1c24ce64400f",
            "40d1e9ff82d54b23aff3036e179a728d",
            "cd78fe47183d458fbcd0bdeb7bbc0910",
            "088d9c0e740d499c800c4e06a72065e1",
            "66661c20cf774d21914e2fcd824a8b85",
            "932b64343e514d6fb936bbbe4bae892f",
            "aa314b56a0544670a74c99fb1a7f9602",
            "f8fc0b945e36441e94b437a070469dd9",
            "1e6929fcd358481da62c7a17195a777a",
            "e293ed884a8847b08ffa61c48819d117",
            "fbd11eedf9334c97a3324c6ab618a97b",
            "8f8930fedabd4b21a4b6b80eb2b21ece",
            "1e8687193ca8458e876b724e1400666d",
            "db542740a3bb4fa8a0fc1037ee42c4a8",
            "ab915ada792647beb60f49e0cdb0af85",
            "5227367fdbac46219a94f586537cea4e",
            "b07caa65352a4a948f9a1b58276f1f56",
            "d1d43510ff574b0e9885d4712b2cef3b",
            "e57b3657547f4e2bbe9390b0a590d8a3",
            "ce5917a83aff4369a92a3f263025be14",
            "5cb95454cbfb4cd6acadb8fe97a05c66",
            "7853bb2f440c4ad790ba67ff3c602a87",
            "341c068ec12b4b6e88bd7f558da16e68",
            "187b9f55f91b40629e57f842a8ff8f71",
            "10523f0072ca4b5ab4caa50f3bec0020",
            "b7db20bed73c4db8a8ce97f0cdb452a6",
            "157edb280adb4068aa705f9ec9f4fc3e",
            "e93af59cbd6f4fa587138027a7c7bb33"
          ]
        },
        "id": "QFFB7k1YLPuR",
        "outputId": "45e3c502-b1a2-43f9-e175-2d2ee949cd0d"
      },
      "outputs": [
        {
          "data": {
            "application/vnd.jupyter.widget-view+json": {
              "model_id": "4767c3462e9a46faabdd98124b61e65d",
              "version_major": 2,
              "version_minor": 0
            },
            "text/plain": [
              "Downloading:   0%|          | 0.00/972k [00:00<?, ?B/s]"
            ]
          },
          "metadata": {},
          "output_type": "display_data"
        },
        {
          "data": {
            "application/vnd.jupyter.widget-view+json": {
              "model_id": "7137f02fe3de4fceb6b80278214caef9",
              "version_major": 2,
              "version_minor": 0
            },
            "text/plain": [
              "Downloading:   0%|          | 0.00/29.0 [00:00<?, ?B/s]"
            ]
          },
          "metadata": {},
          "output_type": "display_data"
        },
        {
          "data": {
            "application/vnd.jupyter.widget-view+json": {
              "model_id": "aa314b56a0544670a74c99fb1a7f9602",
              "version_major": 2,
              "version_minor": 0
            },
            "text/plain": [
              "Downloading:   0%|          | 0.00/1.87M [00:00<?, ?B/s]"
            ]
          },
          "metadata": {},
          "output_type": "display_data"
        },
        {
          "data": {
            "application/vnd.jupyter.widget-view+json": {
              "model_id": "d1d43510ff574b0e9885d4712b2cef3b",
              "version_major": 2,
              "version_minor": 0
            },
            "text/plain": [
              "Downloading:   0%|          | 0.00/625 [00:00<?, ?B/s]"
            ]
          },
          "metadata": {},
          "output_type": "display_data"
        }
      ],
      "source": [
        "tokenizer = BertTokenizer.from_pretrained('bert-base-multilingual-cased')"
      ]
    },
    {
      "cell_type": "code",
      "execution_count": null,
      "metadata": {
        "id": "D6q1Gs_jLZPQ"
      },
      "outputs": [],
      "source": [
        "text = train['review'][3]\n",
        "tokens = tokenizer.tokenize(text)\n",
        "tokens_id = tokenizer.convert_tokens_to_ids(tokens)\n",
        "print(text, tokens, tokens_id, sep='\\n')"
      ]
    },
    {
      "cell_type": "code",
      "execution_count": null,
      "metadata": {
        "id": "nt1DXbRQPie4"
      },
      "outputs": [],
      "source": [
        "class AmazonDataset(Dataset):\n",
        "    def __init__(self, reviews, labels, tokenizer, max_len):\n",
        "        self.reviews = reviews\n",
        "        self.labels = labels\n",
        "        self.tokenizer = tokenizer\n",
        "        self.max_len = max_len\n",
        "    \n",
        "    def __len__(self):\n",
        "        return len(self.reviews)\n",
        "    \n",
        "    def __getitem__(self, item):\n",
        "        review = str(self.reviews[item]) \n",
        "        label = self.labels[item]\n",
        "        encoding = tokenizer.encode_plus(\n",
        "                                        review,\n",
        "                                        max_length=self.max_len,\n",
        "                                        truncation=True,\n",
        "                                        add_special_tokens=True,\n",
        "                                        return_token_type_ids=False,\n",
        "                                        padding='max_length',\n",
        "                                        return_attention_mask=True,\n",
        "                                        return_tensors='pt')\n",
        "        return{\n",
        "            'review':review,\n",
        "            'input_ids':encoding['input_ids'].flatten(),\n",
        "            'attention_mask':encoding['attention_mask'].flatten(),\n",
        "            'label':torch.tensor(label, dtype=torch.long)} "
      ]
    },
    {
      "cell_type": "code",
      "execution_count": null,
      "metadata": {
        "id": "HzWBKfJmSNJT"
      },
      "outputs": [],
      "source": [
        "def data_loader(df, tokenizer, max_len, batch_size):\n",
        "  dataset = AmazonDataset(\n",
        "    reviews=df.review.to_numpy(),\n",
        "    labels = df.label.to_numpy(),\n",
        "    tokenizer=tokenizer,\n",
        "    max_len=max_len\n",
        "  )\n",
        "  return DataLoader(dataset, batch_size= BATCH_SIZE, num_workers=2)\n"
      ]
    },
    {
      "cell_type": "code",
      "execution_count": null,
      "metadata": {
        "id": "pcNUIw9HUKpg"
      },
      "outputs": [],
      "source": [
        "train_data_loader = data_loader(train, tokenizer, MAX_LEN, BATCH_SIZE)\n",
        "validation_data_loader = data_loader(validation, tokenizer, MAX_LEN, BATCH_SIZE)\n",
        "test_data_loader = data_loader(test, tokenizer, MAX_LEN, BATCH_SIZE)"
      ]
    },
    {
      "cell_type": "code",
      "execution_count": null,
      "metadata": {
        "id": "fjg2wl9RV3ak"
      },
      "outputs": [],
      "source": [
        "class MultilingualBert(nn.Module):\n",
        "    def __init__(self, n_class):\n",
        "        super(MultilingualBert, self).__init__()\n",
        "        self.bert = BertModel.from_pretrained(\"bert-base-multilingual-cased\")\n",
        "        self.do = nn.Dropout(0.5)\n",
        "        self.linear = nn.Linear(self.bert.config.hidden_size, n_class)\n",
        "\n",
        "    def forward(self, input_ids, attention_mask):\n",
        "        _, cls_output = self.bert(\n",
        "            input_ids = input_ids,\n",
        "            attention_mask = attention_mask,\n",
        "            return_dict=False\n",
        "        )\n",
        "        dropout = self.do(cls_output, )\n",
        "        output = self.linear(dropout)\n",
        "        return output\n"
      ]
    },
    {
      "cell_type": "code",
      "execution_count": null,
      "metadata": {
        "colab": {
          "base_uri": "https://localhost:8080/",
          "height": 121,
          "referenced_widgets": [
            "2f3ae410a5bc4bd5a3475e6b7c53327f",
            "94d90a2fcc1547ae9d1ad7e64179d979",
            "765db2261e3349bf9e91cb8fdf76c746",
            "f08ac3d131514c168379d2ee2ae30528",
            "6d91f93362ad41a08ce28e504c96ad6d",
            "e00504a5a8454c38bdee95ce1bc69ca2",
            "9c88352d75904c7fbffd6f1afe1335e8",
            "f905e4e0744941e1a7cbf7f0b0f95db1",
            "7bdf099509414e24805e5242e3e3b795",
            "4b5b82c51ce4488ba73d29de566778db",
            "a98b3ca5363348f982148627c8c0146c"
          ]
        },
        "id": "q7DqG-DEWByZ",
        "outputId": "6ad77645-f8a1-436b-b32e-b993f7dce6cc"
      },
      "outputs": [
        {
          "data": {
            "application/vnd.jupyter.widget-view+json": {
              "model_id": "2f3ae410a5bc4bd5a3475e6b7c53327f",
              "version_major": 2,
              "version_minor": 0
            },
            "text/plain": [
              "Downloading:   0%|          | 0.00/681M [00:00<?, ?B/s]"
            ]
          },
          "metadata": {},
          "output_type": "display_data"
        },
        {
          "name": "stderr",
          "output_type": "stream",
          "text": [
            "Some weights of the model checkpoint at bert-base-multilingual-cased were not used when initializing BertModel: ['cls.predictions.transform.LayerNorm.weight', 'cls.seq_relationship.bias', 'cls.predictions.bias', 'cls.seq_relationship.weight', 'cls.predictions.transform.dense.weight', 'cls.predictions.decoder.weight', 'cls.predictions.transform.LayerNorm.bias', 'cls.predictions.transform.dense.bias']\n",
            "- This IS expected if you are initializing BertModel from the checkpoint of a model trained on another task or with another architecture (e.g. initializing a BertForSequenceClassification model from a BertForPreTraining model).\n",
            "- This IS NOT expected if you are initializing BertModel from the checkpoint of a model that you expect to be exactly identical (initializing a BertForSequenceClassification model from a BertForSequenceClassification model).\n"
          ]
        }
      ],
      "source": [
        "model = MultilingualBert(NCLASSES)\n",
        "model = model.to(device)"
      ]
    },
    {
      "cell_type": "code",
      "execution_count": null,
      "metadata": {
        "id": "yNUqFUlpCkXl"
      },
      "outputs": [],
      "source": [
        "def count_parameters(model):\n",
        "    return sum(p.numel() for p in model.parameters() if p.requires_grad)"
      ]
    },
    {
      "cell_type": "code",
      "execution_count": null,
      "metadata": {
        "colab": {
          "base_uri": "https://localhost:8080/"
        },
        "id": "MH5pVgyNDKxt",
        "outputId": "6b1e8165-64c4-4ff6-fa3a-04c91e36fddf"
      },
      "outputs": [
        {
          "data": {
            "text/plain": [
              "177855747"
            ]
          },
          "execution_count": 23,
          "metadata": {},
          "output_type": "execute_result"
        }
      ],
      "source": [
        "count_parameters(model)"
      ]
    },
    {
      "cell_type": "code",
      "execution_count": null,
      "metadata": {
        "colab": {
          "base_uri": "https://localhost:8080/",
          "height": 236
        },
        "id": "htxd2UqEWYao",
        "outputId": "488caaed-2ed8-4c07-9ab4-5646159e33fb"
      },
      "outputs": [],
      "source": [
        "EPOCHS=5\n",
        "optimizer = AdamW (model.parameters(), lr=2e-5, correct_bias=False)\n",
        "total_steps = len(train_data_loader)*EPOCHS\n",
        "\n",
        "scheduler = get_linear_schedule_with_warmup(\n",
        "  optimizer,\n",
        "  num_warmup_steps=0,\n",
        "  num_training_steps = total_steps\n",
        ")"
      ]
    },
    {
      "cell_type": "code",
      "execution_count": null,
      "metadata": {
        "id": "S2eAJ--LGm09"
      },
      "outputs": [],
      "source": [
        "loss_fn = nn.CrossEntropyLoss().to(device)\n",
        "f1 = F1(num_classes=3).to(device)"
      ]
    },
    {
      "cell_type": "code",
      "execution_count": null,
      "metadata": {
        "id": "V7AcK0ZeXDlZ"
      },
      "outputs": [],
      "source": [
        "def train_model (model, data_loader, loss_fn, optimizer, device, scheduler, n_examples):\n",
        "  model=model.train()\n",
        "  losses = []\n",
        "  correct_predictions = 0\n",
        "  f1_score_global = []\n",
        "  i=0\n",
        "  for batch in data_loader:\n",
        "    input_ids = batch['input_ids'].to(device)\n",
        "    attention_mask = batch['attention_mask'].to(device)\n",
        "    labels = batch['label'].to(device)\n",
        "    outputs = model(input_ids = input_ids, attention_mask = attention_mask)\n",
        "    _, preds = torch.max(outputs, dim=1)\n",
        "    loss = loss_fn(outputs, labels)\n",
        "    correct_predictions += torch.sum(preds == labels)\n",
        "    f1_score_global.append(f1(preds, labels).cpu().detach().numpy())\n",
        "    losses.append(loss.item())\n",
        "    loss.backward()\n",
        "    nn.utils.clip_grad_norm_(model.parameters(), max_norm=1.0)\n",
        "    optimizer.step()\n",
        "    scheduler.step()\n",
        "    optimizer.zero_grad()\n",
        "    print('Ejemplo {}/{} , Entrenamiento: Loss: {}, mean f1: {}'.format(i, n_examples/BATCH_SIZE,loss, np.mean(f1_score_global)))\n",
        "    i+=1\n",
        "  return correct_predictions.double()/n_examples, np.mean(losses), np.mean(f1_score_global)"
      ]
    },
    {
      "cell_type": "code",
      "execution_count": null,
      "metadata": {
        "id": "tWWwKjcDXlx0"
      },
      "outputs": [],
      "source": [
        "def eval_model(model, data_loader, loss_fn, device, n_examples, modo):\n",
        "  model = model.eval()\n",
        "  losses = []\n",
        "  correct_predictions = 0\n",
        "  f1_score_global = []\n",
        "  i=0\n",
        "  with torch.no_grad():\n",
        "    for batch in data_loader:\n",
        "      input_ids = batch['input_ids'].to(device)\n",
        "      attention_mask = batch['attention_mask'].to(device)\n",
        "      labels = batch['label'].to(device)\n",
        "      outputs = model(input_ids = input_ids, attention_mask = attention_mask)\n",
        "      _, preds = torch.max(outputs, dim=1)\n",
        "      f1_score_global.append(f1(preds, labels).cpu().detach().numpy())\n",
        "      loss = loss_fn(outputs, labels)\n",
        "      correct_predictions += torch.sum(preds == labels)\n",
        "      losses.append(loss.item())\n",
        "      print('Ejemplo {}/{} , {}: Loss: {}, mean f1: {}'.format(i, n_examples//BATCH_SIZE, modo,loss, np.mean(f1_score_global)))\n",
        "      i+=1\n",
        "  return correct_predictions.double()/n_examples, np.mean(losses), np.mean(f1_score_global)"
      ]
    },
    {
      "cell_type": "markdown",
      "metadata": {
        "id": "-XucRehoLatr"
      },
      "source": [
        "si van a usar en el entremiento de largo usar este for de aquí abajo pero si se cuelga el colab ir ala sig sección de checkpoit"
      ]
    },
    {
      "cell_type": "code",
      "execution_count": null,
      "metadata": {
        "colab": {
          "base_uri": "https://localhost:8080/"
        },
        "id": "p_neEieqXsz7",
        "outputId": "3226f546-0007-43c4-c46c-bf65192d37ab"
      },
      "outputs": [],
      "source": [
        "for epoch in range(EPOCHS):\n",
        "  print('Epoch {} de {}'.format(epoch+1, EPOCHS))\n",
        "  print('------------------')\n",
        "  train_acc, train_loss, train_f1 = train_model(\n",
        "    model, train_data_loader, loss_fn, optimizer, device, scheduler, len(train)\n",
        "  )\n",
        "  validation_acc, validation_loss, validation_f1 = eval_model(\n",
        "    model, validation_data_loader, loss_fn, device, len(validation), 'Validación'\n",
        "  )  \n",
        "  checkpoint = {'epoch': epoch + 1, 'state_dict': model.state_dict(),\n",
        "             'optimizer': optimizer.state_dict()}\n",
        "  torch.save(checkpoint, f'checkpoint_{epoch+1}.pth')\n",
        "  print('Entrenamiento: Loss: {}, accuracy: {}, f1: {}'.format(train_loss, train_acc, train_f1))\n",
        "  print('Validación: Loss: {}, accuracy: {}, f1: {}'.format(validation_loss, validation_acc, validation_f1))\n",
        "  print('')"
      ]
    },
    {
      "cell_type": "markdown",
      "metadata": {
        "id": "fkhFLq0fFm3q"
      },
      "source": [
        "**<h1>Usar checkpoints</h1>**"
      ]
    },
    {
      "cell_type": "code",
      "execution_count": null,
      "metadata": {
        "id": "9lAGr8yI5sC3"
      },
      "outputs": [],
      "source": [
        "loaded_checkpoint = torch.load('checkpoint_1.pth', map_location=device)"
      ]
    },
    {
      "cell_type": "code",
      "execution_count": null,
      "metadata": {
        "id": "armcEhEhLGdl"
      },
      "outputs": [],
      "source": [
        "last_epoch = loaded_checkpoint['epoch']\n",
        "optimizer.load_state_dict(loaded_checkpoint['optimizer'])"
      ]
    },
    {
      "cell_type": "markdown",
      "metadata": {
        "id": "RrgR4dTRYlCe"
      },
      "source": []
    },
    {
      "cell_type": "code",
      "execution_count": null,
      "metadata": {
        "colab": {
          "base_uri": "https://localhost:8080/"
        },
        "id": "QgW_BPx0LQgy",
        "outputId": "0f94831f-aeaa-447f-c674-1baf8c02081b"
      },
      "outputs": [
        {
          "data": {
            "text/plain": [
              "<All keys matched successfully>"
            ]
          },
          "execution_count": 29,
          "metadata": {},
          "output_type": "execute_result"
        }
      ],
      "source": [
        "model.load_state_dict(loaded_checkpoint['state_dict'])"
      ]
    },
    {
      "cell_type": "code",
      "execution_count": null,
      "metadata": {
        "id": "b-6a0xPFt3Dz"
      },
      "outputs": [],
      "source": [
        "torch.save(loaded_checkpoint['state_dict'],f'MBert_weight{last_epoch}.pth')"
      ]
    },
    {
      "cell_type": "code",
      "execution_count": null,
      "metadata": {
        "colab": {
          "base_uri": "https://localhost:8080/",
          "height": 236
        },
        "id": "3B6J6fTrLTJL",
        "outputId": "17876770-bc2e-4556-dc82-61adcff4fc8b"
      },
      "outputs": [],
      "source": [
        "for epoch in range(last_epoch, EPOCHS):\n",
        "  print('Epoch {} de {}'.format(epoch+1, EPOCHS))\n",
        "  print('------------------')\n",
        "  train_acc, train_loss, train_f1 = train_model(\n",
        "    model, train_data_loader, loss_fn, optimizer, device, scheduler, len(train)\n",
        "  )\n",
        "  validation_acc, validation_loss, validation_f1 = eval_model(\n",
        "    model, validation_data_loader, loss_fn, device, len(validation), 'Validación'\n",
        "  )\n",
        "  checkpoint = {'epoch': epoch + 1, 'state_dict': model.state_dict(),\n",
        "             'optimizer': optimizer.state_dict()}\n",
        "  torch.save(checkpoint, f'checkpoint_{epoch+1}.pth')\n",
        "  print('Entrenamiento: Loss: {}, accuracy: {}, f1: {}'.format(train_loss, train_acc, train_f1))\n",
        "  print('Validación: Loss: {}, accuracy: {}, f1: {}'.format(validation_loss, validation_acc, validation_f1))\n",
        "  print('')"
      ]
    },
    {
      "cell_type": "markdown",
      "metadata": {
        "id": "vGrk-umjFSAp"
      },
      "source": [
        "**<h1>Test</h1>**"
      ]
    },
    {
      "cell_type": "code",
      "execution_count": null,
      "metadata": {
        "colab": {
          "base_uri": "https://localhost:8080/"
        },
        "id": "Plz8N-XQES__",
        "outputId": "2f68111a-5039-421a-9526-797d888a4a5f"
      },
      "outputs": [
        {
          "name": "stdout",
          "output_type": "stream",
          "text": [
            "------------------\n",
            "Ejemplo 0/164 , Test: Loss: 0.7878628969192505, mean f1: 0.6875\n",
            "Ejemplo 1/164 , Test: Loss: 0.8221923112869263, mean f1: 0.59375\n",
            "Ejemplo 2/164 , Test: Loss: 0.6611753702163696, mean f1: 0.625\n",
            "Ejemplo 3/164 , Test: Loss: 0.9754965901374817, mean f1: 0.609375\n",
            "Ejemplo 4/164 , Test: Loss: 0.6439922451972961, mean f1: 0.6499999761581421\n",
            "Ejemplo 5/164 , Test: Loss: 0.6246194243431091, mean f1: 0.65625\n",
            "Ejemplo 6/164 , Test: Loss: 0.6603860855102539, mean f1: 0.6696428656578064\n",
            "Ejemplo 7/164 , Test: Loss: 0.9931719303131104, mean f1: 0.65625\n",
            "Ejemplo 8/164 , Test: Loss: 1.2937101125717163, mean f1: 0.6458333134651184\n",
            "Ejemplo 9/164 , Test: Loss: 0.6007692217826843, mean f1: 0.643750011920929\n",
            "Ejemplo 10/164 , Test: Loss: 0.6174858808517456, mean f1: 0.6590909361839294\n",
            "Ejemplo 11/164 , Test: Loss: 0.975482702255249, mean f1: 0.6354166865348816\n",
            "Ejemplo 12/164 , Test: Loss: 0.691209077835083, mean f1: 0.6346153616905212\n",
            "Ejemplo 13/164 , Test: Loss: 0.4907473623752594, mean f1: 0.6428571343421936\n",
            "Ejemplo 14/164 , Test: Loss: 0.6816922426223755, mean f1: 0.6458333134651184\n",
            "Ejemplo 15/164 , Test: Loss: 0.6809449195861816, mean f1: 0.6484375\n",
            "Ejemplo 16/164 , Test: Loss: 0.5430459976196289, mean f1: 0.658088207244873\n",
            "Ejemplo 17/164 , Test: Loss: 1.0759841203689575, mean f1: 0.6597222089767456\n",
            "Ejemplo 18/164 , Test: Loss: 1.052412748336792, mean f1: 0.6513158082962036\n",
            "Ejemplo 19/164 , Test: Loss: 0.8366014957427979, mean f1: 0.643750011920929\n",
            "Ejemplo 20/164 , Test: Loss: 0.7678547501564026, mean f1: 0.6458333134651184\n",
            "Ejemplo 21/164 , Test: Loss: 0.43926864862442017, mean f1: 0.6534090638160706\n",
            "Ejemplo 22/164 , Test: Loss: 0.7302979826927185, mean f1: 0.6494565010070801\n",
            "Ejemplo 23/164 , Test: Loss: 0.719856858253479, mean f1: 0.6536458134651184\n",
            "Ejemplo 24/164 , Test: Loss: 1.0313940048217773, mean f1: 0.6549999713897705\n",
            "Ejemplo 25/164 , Test: Loss: 0.6860061883926392, mean f1: 0.6538461446762085\n",
            "Ejemplo 26/164 , Test: Loss: 0.8474376797676086, mean f1: 0.6504629850387573\n",
            "Ejemplo 27/164 , Test: Loss: 0.5408772230148315, mean f1: 0.6540178656578064\n",
            "Ejemplo 28/164 , Test: Loss: 0.5506405830383301, mean f1: 0.6573275923728943\n",
            "Ejemplo 29/164 , Test: Loss: 0.8270944952964783, mean f1: 0.65625\n",
            "Ejemplo 30/164 , Test: Loss: 0.7007709741592407, mean f1: 0.6592742204666138\n",
            "Ejemplo 31/164 , Test: Loss: 0.7939380407333374, mean f1: 0.658203125\n",
            "Ejemplo 32/164 , Test: Loss: 0.7273256778717041, mean f1: 0.6571969985961914\n",
            "Ejemplo 33/164 , Test: Loss: 0.9057413935661316, mean f1: 0.65625\n",
            "Ejemplo 34/164 , Test: Loss: 0.6129663586616516, mean f1: 0.6571428775787354\n",
            "Ejemplo 35/164 , Test: Loss: 0.5965948700904846, mean f1: 0.65625\n",
            "Ejemplo 36/164 , Test: Loss: 0.5803796052932739, mean f1: 0.6570945978164673\n",
            "Ejemplo 37/164 , Test: Loss: 0.7641317248344421, mean f1: 0.6546052694320679\n",
            "Ejemplo 38/164 , Test: Loss: 0.6810855269432068, mean f1: 0.6554487347602844\n",
            "Ejemplo 39/164 , Test: Loss: 0.7773325443267822, mean f1: 0.651562511920929\n",
            "Ejemplo 40/164 , Test: Loss: 0.541894793510437, mean f1: 0.6554877758026123\n",
            "Ejemplo 41/164 , Test: Loss: 0.3907248377799988, mean f1: 0.6607142686843872\n",
            "Ejemplo 42/164 , Test: Loss: 1.005721092224121, mean f1: 0.6598837375640869\n",
            "Ejemplo 43/164 , Test: Loss: 0.42184191942214966, mean f1: 0.6647727489471436\n",
            "Ejemplo 44/164 , Test: Loss: 0.7144383788108826, mean f1: 0.6652777791023254\n",
            "Ejemplo 45/164 , Test: Loss: 0.5464441180229187, mean f1: 0.66576087474823\n",
            "Ejemplo 46/164 , Test: Loss: 0.7963483929634094, mean f1: 0.6635638475418091\n",
            "Ejemplo 47/164 , Test: Loss: 0.6575952768325806, mean f1: 0.6640625\n",
            "Ejemplo 48/164 , Test: Loss: 0.3868940472602844, mean f1: 0.668367326259613\n",
            "Ejemplo 49/164 , Test: Loss: 0.38040411472320557, mean f1: 0.6725000143051147\n",
            "Ejemplo 50/164 , Test: Loss: 0.5499858856201172, mean f1: 0.6740196347236633\n",
            "Ejemplo 51/164 , Test: Loss: 0.8603978753089905, mean f1: 0.671875\n",
            "Ejemplo 52/164 , Test: Loss: 0.5186107158660889, mean f1: 0.6745283007621765\n",
            "Ejemplo 53/164 , Test: Loss: 0.6124943494796753, mean f1: 0.6770833134651184\n",
            "Ejemplo 54/164 , Test: Loss: 0.7650572061538696, mean f1: 0.675000011920929\n",
            "Ejemplo 55/164 , Test: Loss: 0.6196597218513489, mean f1: 0.6729910969734192\n",
            "Ejemplo 56/164 , Test: Loss: 0.567346453666687, mean f1: 0.6754385828971863\n",
            "Ejemplo 57/164 , Test: Loss: 0.496995747089386, mean f1: 0.6767241358757019\n",
            "Ejemplo 58/164 , Test: Loss: 0.8176522254943848, mean f1: 0.679025411605835\n",
            "Ejemplo 59/164 , Test: Loss: 0.7495101094245911, mean f1: 0.6791666746139526\n",
            "Ejemplo 60/164 , Test: Loss: 0.8965986967086792, mean f1: 0.6782786846160889\n",
            "Ejemplo 61/164 , Test: Loss: 0.6313278079032898, mean f1: 0.6794354915618896\n",
            "Ejemplo 62/164 , Test: Loss: 0.4130333662033081, mean f1: 0.682539701461792\n",
            "Ejemplo 63/164 , Test: Loss: 0.8039292097091675, mean f1: 0.681640625\n",
            "Ejemplo 64/164 , Test: Loss: 0.5971921682357788, mean f1: 0.682692289352417\n",
            "Ejemplo 65/164 , Test: Loss: 0.6635607481002808, mean f1: 0.6818181872367859\n",
            "Ejemplo 66/164 , Test: Loss: 1.0881586074829102, mean f1: 0.6800373196601868\n",
            "Ejemplo 67/164 , Test: Loss: 0.9204691648483276, mean f1: 0.6801470518112183\n",
            "Ejemplo 68/164 , Test: Loss: 0.9240182638168335, mean f1: 0.676630437374115\n",
            "Ejemplo 69/164 , Test: Loss: 0.8278089761734009, mean f1: 0.6767857074737549\n",
            "Ejemplo 70/164 , Test: Loss: 0.8521465063095093, mean f1: 0.6760563254356384\n",
            "Ejemplo 71/164 , Test: Loss: 0.8016750812530518, mean f1: 0.6736111044883728\n",
            "Ejemplo 72/164 , Test: Loss: 0.42598578333854675, mean f1: 0.6755136847496033\n",
            "Ejemplo 73/164 , Test: Loss: 0.9180691838264465, mean f1: 0.6739864945411682\n",
            "Ejemplo 74/164 , Test: Loss: 1.248250961303711, mean f1: 0.6700000166893005\n",
            "Ejemplo 75/164 , Test: Loss: 0.6420161724090576, mean f1: 0.6710526347160339\n",
            "Ejemplo 76/164 , Test: Loss: 0.6701995134353638, mean f1: 0.6704545617103577\n",
            "Ejemplo 77/164 , Test: Loss: 0.9756841659545898, mean f1: 0.6682692170143127\n",
            "Ejemplo 78/164 , Test: Loss: 0.6725479960441589, mean f1: 0.6677215099334717\n",
            "Ejemplo 79/164 , Test: Loss: 0.3278094530105591, mean f1: 0.671093761920929\n",
            "Ejemplo 80/164 , Test: Loss: 0.6608724594116211, mean f1: 0.6712962985038757\n",
            "Ejemplo 81/164 , Test: Loss: 0.49764305353164673, mean f1: 0.6730182766914368\n",
            "Ejemplo 82/164 , Test: Loss: 0.431962251663208, mean f1: 0.6746987700462341\n",
            "Ejemplo 83/164 , Test: Loss: 0.4725501835346222, mean f1: 0.6763392686843872\n",
            "Ejemplo 84/164 , Test: Loss: 0.4884628355503082, mean f1: 0.6764705777168274\n",
            "Ejemplo 85/164 , Test: Loss: 1.055095911026001, mean f1: 0.6758720874786377\n",
            "Ejemplo 86/164 , Test: Loss: 0.4939471185207367, mean f1: 0.6774425506591797\n",
            "Ejemplo 87/164 , Test: Loss: 0.4261924624443054, mean f1: 0.6803977489471436\n",
            "Ejemplo 88/164 , Test: Loss: 0.5693697333335876, mean f1: 0.6818820238113403\n",
            "Ejemplo 89/164 , Test: Loss: 0.4491996169090271, mean f1: 0.6833333373069763\n",
            "Ejemplo 90/164 , Test: Loss: 0.9848902225494385, mean f1: 0.6833791136741638\n",
            "Ejemplo 91/164 , Test: Loss: 0.5919018983840942, mean f1: 0.6834239363670349\n",
            "Ejemplo 92/164 , Test: Loss: 0.6707327365875244, mean f1: 0.6841397881507874\n",
            "Ejemplo 93/164 , Test: Loss: 0.5311969518661499, mean f1: 0.6855053305625916\n",
            "Ejemplo 94/164 , Test: Loss: 0.803939938545227, mean f1: 0.6842105388641357\n",
            "Ejemplo 95/164 , Test: Loss: 0.7379747629165649, mean f1: 0.6848958134651184\n",
            "Ejemplo 96/164 , Test: Loss: 0.6816034317016602, mean f1: 0.6842783689498901\n",
            "Ejemplo 97/164 , Test: Loss: 0.698826789855957, mean f1: 0.6843112111091614\n",
            "Ejemplo 98/164 , Test: Loss: 0.7966969013214111, mean f1: 0.6837121248245239\n",
            "Ejemplo 99/164 , Test: Loss: 0.9125106334686279, mean f1: 0.6825000047683716\n",
            "Ejemplo 100/164 , Test: Loss: 0.6123034954071045, mean f1: 0.6831682920455933\n",
            "Ejemplo 101/164 , Test: Loss: 0.6597313284873962, mean f1: 0.6838235259056091\n",
            "Ejemplo 102/164 , Test: Loss: 0.6871039867401123, mean f1: 0.6838592290878296\n",
            "Ejemplo 103/164 , Test: Loss: 0.575975775718689, mean f1: 0.6838942170143127\n",
            "Ejemplo 104/164 , Test: Loss: 0.8566651344299316, mean f1: 0.6833333373069763\n",
            "Ejemplo 105/164 , Test: Loss: 0.7903211712837219, mean f1: 0.682193398475647\n",
            "Ejemplo 106/164 , Test: Loss: 0.8930798768997192, mean f1: 0.6799065470695496\n",
            "Ejemplo 107/164 , Test: Loss: 0.8668904900550842, mean f1: 0.6799768805503845\n",
            "Ejemplo 108/164 , Test: Loss: 1.149997591972351, mean f1: 0.6771789193153381\n",
            "Ejemplo 109/164 , Test: Loss: 1.0113110542297363, mean f1: 0.6772727370262146\n",
            "Ejemplo 110/164 , Test: Loss: 0.5422742366790771, mean f1: 0.6773648858070374\n",
            "Ejemplo 111/164 , Test: Loss: 0.6522266268730164, mean f1: 0.6780133843421936\n",
            "Ejemplo 112/164 , Test: Loss: 0.6250843405723572, mean f1: 0.678650438785553\n",
            "Ejemplo 113/164 , Test: Loss: 0.7486613988876343, mean f1: 0.6798245906829834\n",
            "Ejemplo 114/164 , Test: Loss: 0.7979875206947327, mean f1: 0.678804337978363\n",
            "Ejemplo 115/164 , Test: Loss: 0.8445839881896973, mean f1: 0.6788793206214905\n",
            "Ejemplo 116/164 , Test: Loss: 0.7388128638267517, mean f1: 0.6789529919624329\n",
            "Ejemplo 117/164 , Test: Loss: 0.9594603776931763, mean f1: 0.6769067645072937\n",
            "Ejemplo 118/164 , Test: Loss: 0.9919712543487549, mean f1: 0.6759454011917114\n",
            "Ejemplo 119/164 , Test: Loss: 0.5326818227767944, mean f1: 0.6770833134651184\n",
            "Ejemplo 120/164 , Test: Loss: 0.5575076341629028, mean f1: 0.6787189841270447\n",
            "Ejemplo 121/164 , Test: Loss: 0.7246741652488708, mean f1: 0.6782786846160889\n",
            "Ejemplo 122/164 , Test: Loss: 0.7579110264778137, mean f1: 0.6778455376625061\n",
            "Ejemplo 123/164 , Test: Loss: 0.6963108777999878, mean f1: 0.6774193644523621\n",
            "Ejemplo 124/164 , Test: Loss: 0.6264631152153015, mean f1: 0.6775000095367432\n",
            "Ejemplo 125/164 , Test: Loss: 1.1529455184936523, mean f1: 0.6765872836112976\n",
            "Ejemplo 126/164 , Test: Loss: 0.6438380479812622, mean f1: 0.6766732335090637\n",
            "Ejemplo 127/164 , Test: Loss: 0.5099579095840454, mean f1: 0.67724609375\n",
            "Ejemplo 128/164 , Test: Loss: 0.7752781510353088, mean f1: 0.6778100728988647\n",
            "Ejemplo 129/164 , Test: Loss: 0.7431966066360474, mean f1: 0.6788461804389954\n",
            "Ejemplo 130/164 , Test: Loss: 0.5748189091682434, mean f1: 0.6789122223854065\n",
            "Ejemplo 131/164 , Test: Loss: 0.6707333922386169, mean f1: 0.6785038113594055\n",
            "Ejemplo 132/164 , Test: Loss: 0.615734875202179, mean f1: 0.6795112490653992\n",
            "Ejemplo 133/164 , Test: Loss: 0.9571855068206787, mean f1: 0.6786380410194397\n",
            "Ejemplo 134/164 , Test: Loss: 0.7268016934394836, mean f1: 0.6782407164573669\n",
            "Ejemplo 135/164 , Test: Loss: 0.7382221221923828, mean f1: 0.6783088445663452\n",
            "Ejemplo 136/164 , Test: Loss: 0.7678216099739075, mean f1: 0.6770073175430298\n",
            "Ejemplo 137/164 , Test: Loss: 0.399936318397522, mean f1: 0.67798912525177\n",
            "Ejemplo 138/164 , Test: Loss: 0.8511136174201965, mean f1: 0.6780575513839722\n",
            "Ejemplo 139/164 , Test: Loss: 0.683279275894165, mean f1: 0.6785714030265808\n",
            "Ejemplo 140/164 , Test: Loss: 0.7150976657867432, mean f1: 0.6781914830207825\n",
            "Ejemplo 141/164 , Test: Loss: 0.9067761301994324, mean f1: 0.6778169274330139\n",
            "Ejemplo 142/164 , Test: Loss: 0.5853843688964844, mean f1: 0.6791958212852478\n",
            "Ejemplo 143/164 , Test: Loss: 0.844164252281189, mean f1: 0.6792534589767456\n",
            "Ejemplo 144/164 , Test: Loss: 0.5210661292076111, mean f1: 0.679741382598877\n",
            "Ejemplo 145/164 , Test: Loss: 0.6439409255981445, mean f1: 0.6797945499420166\n",
            "Ejemplo 146/164 , Test: Loss: 0.43836259841918945, mean f1: 0.6806972622871399\n",
            "Ejemplo 147/164 , Test: Loss: 0.6956115961074829, mean f1: 0.6811655163764954\n",
            "Ejemplo 148/164 , Test: Loss: 0.5488759279251099, mean f1: 0.681208074092865\n",
            "Ejemplo 149/164 , Test: Loss: 0.5049970149993896, mean f1: 0.6820833086967468\n",
            "Ejemplo 150/164 , Test: Loss: 0.5577425360679626, mean f1: 0.6821191906929016\n",
            "Ejemplo 151/164 , Test: Loss: 0.5875264406204224, mean f1: 0.6829769611358643\n",
            "Ejemplo 152/164 , Test: Loss: 0.5800528526306152, mean f1: 0.6834150552749634\n",
            "Ejemplo 153/164 , Test: Loss: 0.5629422068595886, mean f1: 0.6838474273681641\n",
            "Ejemplo 154/164 , Test: Loss: 0.7536081075668335, mean f1: 0.6838709712028503\n",
            "Ejemplo 155/164 , Test: Loss: 0.6228622198104858, mean f1: 0.6838942170143127\n",
            "Ejemplo 156/164 , Test: Loss: 0.7461147904396057, mean f1: 0.6831210255622864\n",
            "Ejemplo 157/164 , Test: Loss: 0.635720431804657, mean f1: 0.6827531456947327\n",
            "Ejemplo 158/164 , Test: Loss: 0.5762388706207275, mean f1: 0.6823899149894714\n",
            "Ejemplo 159/164 , Test: Loss: 0.360465943813324, mean f1: 0.6839843988418579\n",
            "Ejemplo 160/164 , Test: Loss: 0.5498884320259094, mean f1: 0.6843944191932678\n",
            "Ejemplo 161/164 , Test: Loss: 0.7061961889266968, mean f1: 0.6844135522842407\n",
            "Ejemplo 162/164 , Test: Loss: 0.6117295026779175, mean f1: 0.6844325065612793\n",
            "Ejemplo 163/164 , Test: Loss: 0.860897421836853, mean f1: 0.6836889982223511\n",
            "Ejemplo 164/164 , Test: Loss: 0.7409197688102722, mean f1: 0.6847403049468994\n",
            "Test: Loss: 0.7043277810920369, accuracy: 0.6841505131128848, f1: 0.6847403049468994\n",
            "\n"
          ]
        }
      ],
      "source": [
        "print('------------------')\n",
        "test_acc, test_loss, test_f1 = eval_model(\n",
        "        model, test_data_loader, loss_fn, device, len(test), 'Test'\n",
        "    )\n",
        "print('Test: Loss: {}, accuracy: {}, f1: {}'.format(test_loss, test_acc, test_f1))\n",
        "print('')"
      ]
    },
    {
      "cell_type": "code",
      "execution_count": null,
      "metadata": {
        "id": "5gnVZTZdXoOA"
      },
      "outputs": [],
      "source": [
        "def clasificacion_sentimiento(review):\n",
        "  encoding_review = tokenizer.encode_plus(\n",
        "      review,\n",
        "      max_length=MAX_LEN,\n",
        "      truncation=True,\n",
        "      add_special_tokens=True,\n",
        "      return_token_type_ids=False,\n",
        "      #pad_to_max_length=True,\n",
        "      padding='max_length',\n",
        "      return_attention_mask=True,\n",
        "      return_tensors='pt'\n",
        "    )\n",
        "  \n",
        "  input_ids=encoding_review['input_ids'].to(device)\n",
        "  attention_mask=encoding_review['attention_mask'].to(device)\n",
        "  output = model(input_ids, attention_mask)\n",
        "  _, prediction = torch.max(output,dim=1)\n",
        "  if prediction==2:\n",
        "    print('Sentimiento positivo')\n",
        "  elif prediction==1:\n",
        "    print('Sentimiento neutro')  \n",
        "  elif prediction==0:\n",
        "    print('Sentimiento negativo')"
      ]
    },
    {
      "cell_type": "code",
      "execution_count": null,
      "metadata": {
        "id": "udin3hJ0Yrfo"
      },
      "outputs": [],
      "source": [
        "clasificacion_sentimiento(\"El servicio es rápido, servicio invisible y clasificados como categoría un difícil equilibrio perfecto pero como debería ser. Como de 2012 Nov el lugar normalmente está lleno, pero debido a su (surprinsingly) tamaño grande (por lo que sigue siendo acogedor en todas sus diferentes salas de comedor) una pareja o un grupo de 4 puede conseguir con en más de 10 minutos de espera en cualquier momento.\")"
      ]
    }
  ],
  "metadata": {
    "accelerator": "GPU",
    "colab": {
      "collapsed_sections": [],
      "name": "MBert.ipynb",
      "provenance": []
    },
    "kernelspec": {
      "display_name": "Python 3",
      "name": "python3"
    },
    "language_info": {
      "name": "python"
    },
    "widgets": {
      "application/vnd.jupyter.widget-state+json": {
        "0034b70ef08544c5829d0d42d8cfb124": {
          "model_module": "@jupyter-widgets/base",
          "model_module_version": "1.2.0",
          "model_name": "LayoutModel",
          "state": {
            "_model_module": "@jupyter-widgets/base",
            "_model_module_version": "1.2.0",
            "_model_name": "LayoutModel",
            "_view_count": null,
            "_view_module": "@jupyter-widgets/base",
            "_view_module_version": "1.2.0",
            "_view_name": "LayoutView",
            "align_content": null,
            "align_items": null,
            "align_self": null,
            "border": null,
            "bottom": null,
            "display": null,
            "flex": null,
            "flex_flow": null,
            "grid_area": null,
            "grid_auto_columns": null,
            "grid_auto_flow": null,
            "grid_auto_rows": null,
            "grid_column": null,
            "grid_gap": null,
            "grid_row": null,
            "grid_template_areas": null,
            "grid_template_columns": null,
            "grid_template_rows": null,
            "height": null,
            "justify_content": null,
            "justify_items": null,
            "left": null,
            "margin": null,
            "max_height": null,
            "max_width": null,
            "min_height": null,
            "min_width": null,
            "object_fit": null,
            "object_position": null,
            "order": null,
            "overflow": null,
            "overflow_x": null,
            "overflow_y": null,
            "padding": null,
            "right": null,
            "top": null,
            "visibility": null,
            "width": null
          }
        },
        "088d9c0e740d499c800c4e06a72065e1": {
          "model_module": "@jupyter-widgets/base",
          "model_module_version": "1.2.0",
          "model_name": "LayoutModel",
          "state": {
            "_model_module": "@jupyter-widgets/base",
            "_model_module_version": "1.2.0",
            "_model_name": "LayoutModel",
            "_view_count": null,
            "_view_module": "@jupyter-widgets/base",
            "_view_module_version": "1.2.0",
            "_view_name": "LayoutView",
            "align_content": null,
            "align_items": null,
            "align_self": null,
            "border": null,
            "bottom": null,
            "display": null,
            "flex": null,
            "flex_flow": null,
            "grid_area": null,
            "grid_auto_columns": null,
            "grid_auto_flow": null,
            "grid_auto_rows": null,
            "grid_column": null,
            "grid_gap": null,
            "grid_row": null,
            "grid_template_areas": null,
            "grid_template_columns": null,
            "grid_template_rows": null,
            "height": null,
            "justify_content": null,
            "justify_items": null,
            "left": null,
            "margin": null,
            "max_height": null,
            "max_width": null,
            "min_height": null,
            "min_width": null,
            "object_fit": null,
            "object_position": null,
            "order": null,
            "overflow": null,
            "overflow_x": null,
            "overflow_y": null,
            "padding": null,
            "right": null,
            "top": null,
            "visibility": null,
            "width": null
          }
        },
        "088ffd3b816d4aa29b1275348febd34c": {
          "model_module": "@jupyter-widgets/controls",
          "model_module_version": "1.5.0",
          "model_name": "FloatProgressModel",
          "state": {
            "_dom_classes": [],
            "_model_module": "@jupyter-widgets/controls",
            "_model_module_version": "1.5.0",
            "_model_name": "FloatProgressModel",
            "_view_count": null,
            "_view_module": "@jupyter-widgets/controls",
            "_view_module_version": "1.5.0",
            "_view_name": "ProgressView",
            "bar_style": "success",
            "description": "",
            "description_tooltip": null,
            "layout": "IPY_MODEL_088d9c0e740d499c800c4e06a72065e1",
            "max": 29,
            "min": 0,
            "orientation": "horizontal",
            "style": "IPY_MODEL_cd78fe47183d458fbcd0bdeb7bbc0910",
            "value": 29
          }
        },
        "0e2935e135864eecb506337489f87f4b": {
          "model_module": "@jupyter-widgets/controls",
          "model_module_version": "1.5.0",
          "model_name": "HTMLModel",
          "state": {
            "_dom_classes": [],
            "_model_module": "@jupyter-widgets/controls",
            "_model_module_version": "1.5.0",
            "_model_name": "HTMLModel",
            "_view_count": null,
            "_view_module": "@jupyter-widgets/controls",
            "_view_module_version": "1.5.0",
            "_view_name": "HTMLView",
            "description": "",
            "description_tooltip": null,
            "layout": "IPY_MODEL_4bfd823cf5534e5589f6c8c563c8fe6e",
            "placeholder": "​",
            "style": "IPY_MODEL_5623ad38a8dc4c9c8433663b844f0ed1",
            "value": "Downloading: 100%"
          }
        },
        "10523f0072ca4b5ab4caa50f3bec0020": {
          "model_module": "@jupyter-widgets/controls",
          "model_module_version": "1.5.0",
          "model_name": "ProgressStyleModel",
          "state": {
            "_model_module": "@jupyter-widgets/controls",
            "_model_module_version": "1.5.0",
            "_model_name": "ProgressStyleModel",
            "_view_count": null,
            "_view_module": "@jupyter-widgets/base",
            "_view_module_version": "1.2.0",
            "_view_name": "StyleView",
            "bar_color": null,
            "description_width": ""
          }
        },
        "157edb280adb4068aa705f9ec9f4fc3e": {
          "model_module": "@jupyter-widgets/controls",
          "model_module_version": "1.5.0",
          "model_name": "DescriptionStyleModel",
          "state": {
            "_model_module": "@jupyter-widgets/controls",
            "_model_module_version": "1.5.0",
            "_model_name": "DescriptionStyleModel",
            "_view_count": null,
            "_view_module": "@jupyter-widgets/base",
            "_view_module_version": "1.2.0",
            "_view_name": "StyleView",
            "description_width": ""
          }
        },
        "187b9f55f91b40629e57f842a8ff8f71": {
          "model_module": "@jupyter-widgets/base",
          "model_module_version": "1.2.0",
          "model_name": "LayoutModel",
          "state": {
            "_model_module": "@jupyter-widgets/base",
            "_model_module_version": "1.2.0",
            "_model_name": "LayoutModel",
            "_view_count": null,
            "_view_module": "@jupyter-widgets/base",
            "_view_module_version": "1.2.0",
            "_view_name": "LayoutView",
            "align_content": null,
            "align_items": null,
            "align_self": null,
            "border": null,
            "bottom": null,
            "display": null,
            "flex": null,
            "flex_flow": null,
            "grid_area": null,
            "grid_auto_columns": null,
            "grid_auto_flow": null,
            "grid_auto_rows": null,
            "grid_column": null,
            "grid_gap": null,
            "grid_row": null,
            "grid_template_areas": null,
            "grid_template_columns": null,
            "grid_template_rows": null,
            "height": null,
            "justify_content": null,
            "justify_items": null,
            "left": null,
            "margin": null,
            "max_height": null,
            "max_width": null,
            "min_height": null,
            "min_width": null,
            "object_fit": null,
            "object_position": null,
            "order": null,
            "overflow": null,
            "overflow_x": null,
            "overflow_y": null,
            "padding": null,
            "right": null,
            "top": null,
            "visibility": null,
            "width": null
          }
        },
        "1e6929fcd358481da62c7a17195a777a": {
          "model_module": "@jupyter-widgets/controls",
          "model_module_version": "1.5.0",
          "model_name": "HTMLModel",
          "state": {
            "_dom_classes": [],
            "_model_module": "@jupyter-widgets/controls",
            "_model_module_version": "1.5.0",
            "_model_name": "HTMLModel",
            "_view_count": null,
            "_view_module": "@jupyter-widgets/controls",
            "_view_module_version": "1.5.0",
            "_view_name": "HTMLView",
            "description": "",
            "description_tooltip": null,
            "layout": "IPY_MODEL_1e8687193ca8458e876b724e1400666d",
            "placeholder": "​",
            "style": "IPY_MODEL_8f8930fedabd4b21a4b6b80eb2b21ece",
            "value": "Downloading: 100%"
          }
        },
        "1e8687193ca8458e876b724e1400666d": {
          "model_module": "@jupyter-widgets/base",
          "model_module_version": "1.2.0",
          "model_name": "LayoutModel",
          "state": {
            "_model_module": "@jupyter-widgets/base",
            "_model_module_version": "1.2.0",
            "_model_name": "LayoutModel",
            "_view_count": null,
            "_view_module": "@jupyter-widgets/base",
            "_view_module_version": "1.2.0",
            "_view_name": "LayoutView",
            "align_content": null,
            "align_items": null,
            "align_self": null,
            "border": null,
            "bottom": null,
            "display": null,
            "flex": null,
            "flex_flow": null,
            "grid_area": null,
            "grid_auto_columns": null,
            "grid_auto_flow": null,
            "grid_auto_rows": null,
            "grid_column": null,
            "grid_gap": null,
            "grid_row": null,
            "grid_template_areas": null,
            "grid_template_columns": null,
            "grid_template_rows": null,
            "height": null,
            "justify_content": null,
            "justify_items": null,
            "left": null,
            "margin": null,
            "max_height": null,
            "max_width": null,
            "min_height": null,
            "min_width": null,
            "object_fit": null,
            "object_position": null,
            "order": null,
            "overflow": null,
            "overflow_x": null,
            "overflow_y": null,
            "padding": null,
            "right": null,
            "top": null,
            "visibility": null,
            "width": null
          }
        },
        "2f3ae410a5bc4bd5a3475e6b7c53327f": {
          "model_module": "@jupyter-widgets/controls",
          "model_module_version": "1.5.0",
          "model_name": "HBoxModel",
          "state": {
            "_dom_classes": [],
            "_model_module": "@jupyter-widgets/controls",
            "_model_module_version": "1.5.0",
            "_model_name": "HBoxModel",
            "_view_count": null,
            "_view_module": "@jupyter-widgets/controls",
            "_view_module_version": "1.5.0",
            "_view_name": "HBoxView",
            "box_style": "",
            "children": [
              "IPY_MODEL_765db2261e3349bf9e91cb8fdf76c746",
              "IPY_MODEL_f08ac3d131514c168379d2ee2ae30528",
              "IPY_MODEL_6d91f93362ad41a08ce28e504c96ad6d"
            ],
            "layout": "IPY_MODEL_94d90a2fcc1547ae9d1ad7e64179d979"
          }
        },
        "341c068ec12b4b6e88bd7f558da16e68": {
          "model_module": "@jupyter-widgets/controls",
          "model_module_version": "1.5.0",
          "model_name": "DescriptionStyleModel",
          "state": {
            "_model_module": "@jupyter-widgets/controls",
            "_model_module_version": "1.5.0",
            "_model_name": "DescriptionStyleModel",
            "_view_count": null,
            "_view_module": "@jupyter-widgets/base",
            "_view_module_version": "1.2.0",
            "_view_name": "StyleView",
            "description_width": ""
          }
        },
        "39b827d8fa1a4611983908474eb8bb7f": {
          "model_module": "@jupyter-widgets/controls",
          "model_module_version": "1.5.0",
          "model_name": "HTMLModel",
          "state": {
            "_dom_classes": [],
            "_model_module": "@jupyter-widgets/controls",
            "_model_module_version": "1.5.0",
            "_model_name": "HTMLModel",
            "_view_count": null,
            "_view_module": "@jupyter-widgets/controls",
            "_view_module_version": "1.5.0",
            "_view_name": "HTMLView",
            "description": "",
            "description_tooltip": null,
            "layout": "IPY_MODEL_932b64343e514d6fb936bbbe4bae892f",
            "placeholder": "​",
            "style": "IPY_MODEL_66661c20cf774d21914e2fcd824a8b85",
            "value": " 29.0/29.0 [00:00&lt;00:00, 793B/s]"
          }
        },
        "40d1e9ff82d54b23aff3036e179a728d": {
          "model_module": "@jupyter-widgets/base",
          "model_module_version": "1.2.0",
          "model_name": "LayoutModel",
          "state": {
            "_model_module": "@jupyter-widgets/base",
            "_model_module_version": "1.2.0",
            "_model_name": "LayoutModel",
            "_view_count": null,
            "_view_module": "@jupyter-widgets/base",
            "_view_module_version": "1.2.0",
            "_view_name": "LayoutView",
            "align_content": null,
            "align_items": null,
            "align_self": null,
            "border": null,
            "bottom": null,
            "display": null,
            "flex": null,
            "flex_flow": null,
            "grid_area": null,
            "grid_auto_columns": null,
            "grid_auto_flow": null,
            "grid_auto_rows": null,
            "grid_column": null,
            "grid_gap": null,
            "grid_row": null,
            "grid_template_areas": null,
            "grid_template_columns": null,
            "grid_template_rows": null,
            "height": null,
            "justify_content": null,
            "justify_items": null,
            "left": null,
            "margin": null,
            "max_height": null,
            "max_width": null,
            "min_height": null,
            "min_width": null,
            "object_fit": null,
            "object_position": null,
            "order": null,
            "overflow": null,
            "overflow_x": null,
            "overflow_y": null,
            "padding": null,
            "right": null,
            "top": null,
            "visibility": null,
            "width": null
          }
        },
        "4767c3462e9a46faabdd98124b61e65d": {
          "model_module": "@jupyter-widgets/controls",
          "model_module_version": "1.5.0",
          "model_name": "HBoxModel",
          "state": {
            "_dom_classes": [],
            "_model_module": "@jupyter-widgets/controls",
            "_model_module_version": "1.5.0",
            "_model_name": "HBoxModel",
            "_view_count": null,
            "_view_module": "@jupyter-widgets/controls",
            "_view_module_version": "1.5.0",
            "_view_name": "HBoxView",
            "box_style": "",
            "children": [
              "IPY_MODEL_0e2935e135864eecb506337489f87f4b",
              "IPY_MODEL_b30d611593914f09aa4130694a2af489",
              "IPY_MODEL_c4550ab0d69e4a118230967b746ca66e"
            ],
            "layout": "IPY_MODEL_d29bd480d58e4417b00ebf42b5df13a7"
          }
        },
        "4b5b82c51ce4488ba73d29de566778db": {
          "model_module": "@jupyter-widgets/controls",
          "model_module_version": "1.5.0",
          "model_name": "DescriptionStyleModel",
          "state": {
            "_model_module": "@jupyter-widgets/controls",
            "_model_module_version": "1.5.0",
            "_model_name": "DescriptionStyleModel",
            "_view_count": null,
            "_view_module": "@jupyter-widgets/base",
            "_view_module_version": "1.2.0",
            "_view_name": "StyleView",
            "description_width": ""
          }
        },
        "4bfd823cf5534e5589f6c8c563c8fe6e": {
          "model_module": "@jupyter-widgets/base",
          "model_module_version": "1.2.0",
          "model_name": "LayoutModel",
          "state": {
            "_model_module": "@jupyter-widgets/base",
            "_model_module_version": "1.2.0",
            "_model_name": "LayoutModel",
            "_view_count": null,
            "_view_module": "@jupyter-widgets/base",
            "_view_module_version": "1.2.0",
            "_view_name": "LayoutView",
            "align_content": null,
            "align_items": null,
            "align_self": null,
            "border": null,
            "bottom": null,
            "display": null,
            "flex": null,
            "flex_flow": null,
            "grid_area": null,
            "grid_auto_columns": null,
            "grid_auto_flow": null,
            "grid_auto_rows": null,
            "grid_column": null,
            "grid_gap": null,
            "grid_row": null,
            "grid_template_areas": null,
            "grid_template_columns": null,
            "grid_template_rows": null,
            "height": null,
            "justify_content": null,
            "justify_items": null,
            "left": null,
            "margin": null,
            "max_height": null,
            "max_width": null,
            "min_height": null,
            "min_width": null,
            "object_fit": null,
            "object_position": null,
            "order": null,
            "overflow": null,
            "overflow_x": null,
            "overflow_y": null,
            "padding": null,
            "right": null,
            "top": null,
            "visibility": null,
            "width": null
          }
        },
        "5227367fdbac46219a94f586537cea4e": {
          "model_module": "@jupyter-widgets/controls",
          "model_module_version": "1.5.0",
          "model_name": "DescriptionStyleModel",
          "state": {
            "_model_module": "@jupyter-widgets/controls",
            "_model_module_version": "1.5.0",
            "_model_name": "DescriptionStyleModel",
            "_view_count": null,
            "_view_module": "@jupyter-widgets/base",
            "_view_module_version": "1.2.0",
            "_view_name": "StyleView",
            "description_width": ""
          }
        },
        "5623ad38a8dc4c9c8433663b844f0ed1": {
          "model_module": "@jupyter-widgets/controls",
          "model_module_version": "1.5.0",
          "model_name": "DescriptionStyleModel",
          "state": {
            "_model_module": "@jupyter-widgets/controls",
            "_model_module_version": "1.5.0",
            "_model_name": "DescriptionStyleModel",
            "_view_count": null,
            "_view_module": "@jupyter-widgets/base",
            "_view_module_version": "1.2.0",
            "_view_name": "StyleView",
            "description_width": ""
          }
        },
        "5cb95454cbfb4cd6acadb8fe97a05c66": {
          "model_module": "@jupyter-widgets/controls",
          "model_module_version": "1.5.0",
          "model_name": "FloatProgressModel",
          "state": {
            "_dom_classes": [],
            "_model_module": "@jupyter-widgets/controls",
            "_model_module_version": "1.5.0",
            "_model_name": "FloatProgressModel",
            "_view_count": null,
            "_view_module": "@jupyter-widgets/controls",
            "_view_module_version": "1.5.0",
            "_view_name": "ProgressView",
            "bar_style": "success",
            "description": "",
            "description_tooltip": null,
            "layout": "IPY_MODEL_b7db20bed73c4db8a8ce97f0cdb452a6",
            "max": 625,
            "min": 0,
            "orientation": "horizontal",
            "style": "IPY_MODEL_10523f0072ca4b5ab4caa50f3bec0020",
            "value": 625
          }
        },
        "66661c20cf774d21914e2fcd824a8b85": {
          "model_module": "@jupyter-widgets/controls",
          "model_module_version": "1.5.0",
          "model_name": "DescriptionStyleModel",
          "state": {
            "_model_module": "@jupyter-widgets/controls",
            "_model_module_version": "1.5.0",
            "_model_name": "DescriptionStyleModel",
            "_view_count": null,
            "_view_module": "@jupyter-widgets/base",
            "_view_module_version": "1.2.0",
            "_view_name": "StyleView",
            "description_width": ""
          }
        },
        "6d91f93362ad41a08ce28e504c96ad6d": {
          "model_module": "@jupyter-widgets/controls",
          "model_module_version": "1.5.0",
          "model_name": "HTMLModel",
          "state": {
            "_dom_classes": [],
            "_model_module": "@jupyter-widgets/controls",
            "_model_module_version": "1.5.0",
            "_model_name": "HTMLModel",
            "_view_count": null,
            "_view_module": "@jupyter-widgets/controls",
            "_view_module_version": "1.5.0",
            "_view_name": "HTMLView",
            "description": "",
            "description_tooltip": null,
            "layout": "IPY_MODEL_a98b3ca5363348f982148627c8c0146c",
            "placeholder": "​",
            "style": "IPY_MODEL_4b5b82c51ce4488ba73d29de566778db",
            "value": " 681M/681M [00:24&lt;00:00, 32.4MB/s]"
          }
        },
        "700b57773de84088a2da7ecf440621cd": {
          "model_module": "@jupyter-widgets/controls",
          "model_module_version": "1.5.0",
          "model_name": "ProgressStyleModel",
          "state": {
            "_model_module": "@jupyter-widgets/controls",
            "_model_module_version": "1.5.0",
            "_model_name": "ProgressStyleModel",
            "_view_count": null,
            "_view_module": "@jupyter-widgets/base",
            "_view_module_version": "1.2.0",
            "_view_name": "StyleView",
            "bar_color": null,
            "description_width": ""
          }
        },
        "7137f02fe3de4fceb6b80278214caef9": {
          "model_module": "@jupyter-widgets/controls",
          "model_module_version": "1.5.0",
          "model_name": "HBoxModel",
          "state": {
            "_dom_classes": [],
            "_model_module": "@jupyter-widgets/controls",
            "_model_module_version": "1.5.0",
            "_model_name": "HBoxModel",
            "_view_count": null,
            "_view_module": "@jupyter-widgets/controls",
            "_view_module_version": "1.5.0",
            "_view_name": "HBoxView",
            "box_style": "",
            "children": [
              "IPY_MODEL_ac19a957ca644dbf93ed65cc3948adab",
              "IPY_MODEL_088ffd3b816d4aa29b1275348febd34c",
              "IPY_MODEL_39b827d8fa1a4611983908474eb8bb7f"
            ],
            "layout": "IPY_MODEL_7147357b502e49559b63708b20d0c522"
          }
        },
        "7147357b502e49559b63708b20d0c522": {
          "model_module": "@jupyter-widgets/base",
          "model_module_version": "1.2.0",
          "model_name": "LayoutModel",
          "state": {
            "_model_module": "@jupyter-widgets/base",
            "_model_module_version": "1.2.0",
            "_model_name": "LayoutModel",
            "_view_count": null,
            "_view_module": "@jupyter-widgets/base",
            "_view_module_version": "1.2.0",
            "_view_name": "LayoutView",
            "align_content": null,
            "align_items": null,
            "align_self": null,
            "border": null,
            "bottom": null,
            "display": null,
            "flex": null,
            "flex_flow": null,
            "grid_area": null,
            "grid_auto_columns": null,
            "grid_auto_flow": null,
            "grid_auto_rows": null,
            "grid_column": null,
            "grid_gap": null,
            "grid_row": null,
            "grid_template_areas": null,
            "grid_template_columns": null,
            "grid_template_rows": null,
            "height": null,
            "justify_content": null,
            "justify_items": null,
            "left": null,
            "margin": null,
            "max_height": null,
            "max_width": null,
            "min_height": null,
            "min_width": null,
            "object_fit": null,
            "object_position": null,
            "order": null,
            "overflow": null,
            "overflow_x": null,
            "overflow_y": null,
            "padding": null,
            "right": null,
            "top": null,
            "visibility": null,
            "width": null
          }
        },
        "765db2261e3349bf9e91cb8fdf76c746": {
          "model_module": "@jupyter-widgets/controls",
          "model_module_version": "1.5.0",
          "model_name": "HTMLModel",
          "state": {
            "_dom_classes": [],
            "_model_module": "@jupyter-widgets/controls",
            "_model_module_version": "1.5.0",
            "_model_name": "HTMLModel",
            "_view_count": null,
            "_view_module": "@jupyter-widgets/controls",
            "_view_module_version": "1.5.0",
            "_view_name": "HTMLView",
            "description": "",
            "description_tooltip": null,
            "layout": "IPY_MODEL_9c88352d75904c7fbffd6f1afe1335e8",
            "placeholder": "​",
            "style": "IPY_MODEL_e00504a5a8454c38bdee95ce1bc69ca2",
            "value": "Downloading: 100%"
          }
        },
        "7853bb2f440c4ad790ba67ff3c602a87": {
          "model_module": "@jupyter-widgets/controls",
          "model_module_version": "1.5.0",
          "model_name": "HTMLModel",
          "state": {
            "_dom_classes": [],
            "_model_module": "@jupyter-widgets/controls",
            "_model_module_version": "1.5.0",
            "_model_name": "HTMLModel",
            "_view_count": null,
            "_view_module": "@jupyter-widgets/controls",
            "_view_module_version": "1.5.0",
            "_view_name": "HTMLView",
            "description": "",
            "description_tooltip": null,
            "layout": "IPY_MODEL_e93af59cbd6f4fa587138027a7c7bb33",
            "placeholder": "​",
            "style": "IPY_MODEL_157edb280adb4068aa705f9ec9f4fc3e",
            "value": " 625/625 [00:00&lt;00:00, 13.6kB/s]"
          }
        },
        "7bdf099509414e24805e5242e3e3b795": {
          "model_module": "@jupyter-widgets/base",
          "model_module_version": "1.2.0",
          "model_name": "LayoutModel",
          "state": {
            "_model_module": "@jupyter-widgets/base",
            "_model_module_version": "1.2.0",
            "_model_name": "LayoutModel",
            "_view_count": null,
            "_view_module": "@jupyter-widgets/base",
            "_view_module_version": "1.2.0",
            "_view_name": "LayoutView",
            "align_content": null,
            "align_items": null,
            "align_self": null,
            "border": null,
            "bottom": null,
            "display": null,
            "flex": null,
            "flex_flow": null,
            "grid_area": null,
            "grid_auto_columns": null,
            "grid_auto_flow": null,
            "grid_auto_rows": null,
            "grid_column": null,
            "grid_gap": null,
            "grid_row": null,
            "grid_template_areas": null,
            "grid_template_columns": null,
            "grid_template_rows": null,
            "height": null,
            "justify_content": null,
            "justify_items": null,
            "left": null,
            "margin": null,
            "max_height": null,
            "max_width": null,
            "min_height": null,
            "min_width": null,
            "object_fit": null,
            "object_position": null,
            "order": null,
            "overflow": null,
            "overflow_x": null,
            "overflow_y": null,
            "padding": null,
            "right": null,
            "top": null,
            "visibility": null,
            "width": null
          }
        },
        "8f8930fedabd4b21a4b6b80eb2b21ece": {
          "model_module": "@jupyter-widgets/controls",
          "model_module_version": "1.5.0",
          "model_name": "DescriptionStyleModel",
          "state": {
            "_model_module": "@jupyter-widgets/controls",
            "_model_module_version": "1.5.0",
            "_model_name": "DescriptionStyleModel",
            "_view_count": null,
            "_view_module": "@jupyter-widgets/base",
            "_view_module_version": "1.2.0",
            "_view_name": "StyleView",
            "description_width": ""
          }
        },
        "932b64343e514d6fb936bbbe4bae892f": {
          "model_module": "@jupyter-widgets/base",
          "model_module_version": "1.2.0",
          "model_name": "LayoutModel",
          "state": {
            "_model_module": "@jupyter-widgets/base",
            "_model_module_version": "1.2.0",
            "_model_name": "LayoutModel",
            "_view_count": null,
            "_view_module": "@jupyter-widgets/base",
            "_view_module_version": "1.2.0",
            "_view_name": "LayoutView",
            "align_content": null,
            "align_items": null,
            "align_self": null,
            "border": null,
            "bottom": null,
            "display": null,
            "flex": null,
            "flex_flow": null,
            "grid_area": null,
            "grid_auto_columns": null,
            "grid_auto_flow": null,
            "grid_auto_rows": null,
            "grid_column": null,
            "grid_gap": null,
            "grid_row": null,
            "grid_template_areas": null,
            "grid_template_columns": null,
            "grid_template_rows": null,
            "height": null,
            "justify_content": null,
            "justify_items": null,
            "left": null,
            "margin": null,
            "max_height": null,
            "max_width": null,
            "min_height": null,
            "min_width": null,
            "object_fit": null,
            "object_position": null,
            "order": null,
            "overflow": null,
            "overflow_x": null,
            "overflow_y": null,
            "padding": null,
            "right": null,
            "top": null,
            "visibility": null,
            "width": null
          }
        },
        "94d90a2fcc1547ae9d1ad7e64179d979": {
          "model_module": "@jupyter-widgets/base",
          "model_module_version": "1.2.0",
          "model_name": "LayoutModel",
          "state": {
            "_model_module": "@jupyter-widgets/base",
            "_model_module_version": "1.2.0",
            "_model_name": "LayoutModel",
            "_view_count": null,
            "_view_module": "@jupyter-widgets/base",
            "_view_module_version": "1.2.0",
            "_view_name": "LayoutView",
            "align_content": null,
            "align_items": null,
            "align_self": null,
            "border": null,
            "bottom": null,
            "display": null,
            "flex": null,
            "flex_flow": null,
            "grid_area": null,
            "grid_auto_columns": null,
            "grid_auto_flow": null,
            "grid_auto_rows": null,
            "grid_column": null,
            "grid_gap": null,
            "grid_row": null,
            "grid_template_areas": null,
            "grid_template_columns": null,
            "grid_template_rows": null,
            "height": null,
            "justify_content": null,
            "justify_items": null,
            "left": null,
            "margin": null,
            "max_height": null,
            "max_width": null,
            "min_height": null,
            "min_width": null,
            "object_fit": null,
            "object_position": null,
            "order": null,
            "overflow": null,
            "overflow_x": null,
            "overflow_y": null,
            "padding": null,
            "right": null,
            "top": null,
            "visibility": null,
            "width": null
          }
        },
        "9c88352d75904c7fbffd6f1afe1335e8": {
          "model_module": "@jupyter-widgets/base",
          "model_module_version": "1.2.0",
          "model_name": "LayoutModel",
          "state": {
            "_model_module": "@jupyter-widgets/base",
            "_model_module_version": "1.2.0",
            "_model_name": "LayoutModel",
            "_view_count": null,
            "_view_module": "@jupyter-widgets/base",
            "_view_module_version": "1.2.0",
            "_view_name": "LayoutView",
            "align_content": null,
            "align_items": null,
            "align_self": null,
            "border": null,
            "bottom": null,
            "display": null,
            "flex": null,
            "flex_flow": null,
            "grid_area": null,
            "grid_auto_columns": null,
            "grid_auto_flow": null,
            "grid_auto_rows": null,
            "grid_column": null,
            "grid_gap": null,
            "grid_row": null,
            "grid_template_areas": null,
            "grid_template_columns": null,
            "grid_template_rows": null,
            "height": null,
            "justify_content": null,
            "justify_items": null,
            "left": null,
            "margin": null,
            "max_height": null,
            "max_width": null,
            "min_height": null,
            "min_width": null,
            "object_fit": null,
            "object_position": null,
            "order": null,
            "overflow": null,
            "overflow_x": null,
            "overflow_y": null,
            "padding": null,
            "right": null,
            "top": null,
            "visibility": null,
            "width": null
          }
        },
        "a98b3ca5363348f982148627c8c0146c": {
          "model_module": "@jupyter-widgets/base",
          "model_module_version": "1.2.0",
          "model_name": "LayoutModel",
          "state": {
            "_model_module": "@jupyter-widgets/base",
            "_model_module_version": "1.2.0",
            "_model_name": "LayoutModel",
            "_view_count": null,
            "_view_module": "@jupyter-widgets/base",
            "_view_module_version": "1.2.0",
            "_view_name": "LayoutView",
            "align_content": null,
            "align_items": null,
            "align_self": null,
            "border": null,
            "bottom": null,
            "display": null,
            "flex": null,
            "flex_flow": null,
            "grid_area": null,
            "grid_auto_columns": null,
            "grid_auto_flow": null,
            "grid_auto_rows": null,
            "grid_column": null,
            "grid_gap": null,
            "grid_row": null,
            "grid_template_areas": null,
            "grid_template_columns": null,
            "grid_template_rows": null,
            "height": null,
            "justify_content": null,
            "justify_items": null,
            "left": null,
            "margin": null,
            "max_height": null,
            "max_width": null,
            "min_height": null,
            "min_width": null,
            "object_fit": null,
            "object_position": null,
            "order": null,
            "overflow": null,
            "overflow_x": null,
            "overflow_y": null,
            "padding": null,
            "right": null,
            "top": null,
            "visibility": null,
            "width": null
          }
        },
        "aa314b56a0544670a74c99fb1a7f9602": {
          "model_module": "@jupyter-widgets/controls",
          "model_module_version": "1.5.0",
          "model_name": "HBoxModel",
          "state": {
            "_dom_classes": [],
            "_model_module": "@jupyter-widgets/controls",
            "_model_module_version": "1.5.0",
            "_model_name": "HBoxModel",
            "_view_count": null,
            "_view_module": "@jupyter-widgets/controls",
            "_view_module_version": "1.5.0",
            "_view_name": "HBoxView",
            "box_style": "",
            "children": [
              "IPY_MODEL_1e6929fcd358481da62c7a17195a777a",
              "IPY_MODEL_e293ed884a8847b08ffa61c48819d117",
              "IPY_MODEL_fbd11eedf9334c97a3324c6ab618a97b"
            ],
            "layout": "IPY_MODEL_f8fc0b945e36441e94b437a070469dd9"
          }
        },
        "ab915ada792647beb60f49e0cdb0af85": {
          "model_module": "@jupyter-widgets/base",
          "model_module_version": "1.2.0",
          "model_name": "LayoutModel",
          "state": {
            "_model_module": "@jupyter-widgets/base",
            "_model_module_version": "1.2.0",
            "_model_name": "LayoutModel",
            "_view_count": null,
            "_view_module": "@jupyter-widgets/base",
            "_view_module_version": "1.2.0",
            "_view_name": "LayoutView",
            "align_content": null,
            "align_items": null,
            "align_self": null,
            "border": null,
            "bottom": null,
            "display": null,
            "flex": null,
            "flex_flow": null,
            "grid_area": null,
            "grid_auto_columns": null,
            "grid_auto_flow": null,
            "grid_auto_rows": null,
            "grid_column": null,
            "grid_gap": null,
            "grid_row": null,
            "grid_template_areas": null,
            "grid_template_columns": null,
            "grid_template_rows": null,
            "height": null,
            "justify_content": null,
            "justify_items": null,
            "left": null,
            "margin": null,
            "max_height": null,
            "max_width": null,
            "min_height": null,
            "min_width": null,
            "object_fit": null,
            "object_position": null,
            "order": null,
            "overflow": null,
            "overflow_x": null,
            "overflow_y": null,
            "padding": null,
            "right": null,
            "top": null,
            "visibility": null,
            "width": null
          }
        },
        "ac19a957ca644dbf93ed65cc3948adab": {
          "model_module": "@jupyter-widgets/controls",
          "model_module_version": "1.5.0",
          "model_name": "HTMLModel",
          "state": {
            "_dom_classes": [],
            "_model_module": "@jupyter-widgets/controls",
            "_model_module_version": "1.5.0",
            "_model_name": "HTMLModel",
            "_view_count": null,
            "_view_module": "@jupyter-widgets/controls",
            "_view_module_version": "1.5.0",
            "_view_name": "HTMLView",
            "description": "",
            "description_tooltip": null,
            "layout": "IPY_MODEL_40d1e9ff82d54b23aff3036e179a728d",
            "placeholder": "​",
            "style": "IPY_MODEL_e477fa6293694c8aad1e1c24ce64400f",
            "value": "Downloading: 100%"
          }
        },
        "b07caa65352a4a948f9a1b58276f1f56": {
          "model_module": "@jupyter-widgets/base",
          "model_module_version": "1.2.0",
          "model_name": "LayoutModel",
          "state": {
            "_model_module": "@jupyter-widgets/base",
            "_model_module_version": "1.2.0",
            "_model_name": "LayoutModel",
            "_view_count": null,
            "_view_module": "@jupyter-widgets/base",
            "_view_module_version": "1.2.0",
            "_view_name": "LayoutView",
            "align_content": null,
            "align_items": null,
            "align_self": null,
            "border": null,
            "bottom": null,
            "display": null,
            "flex": null,
            "flex_flow": null,
            "grid_area": null,
            "grid_auto_columns": null,
            "grid_auto_flow": null,
            "grid_auto_rows": null,
            "grid_column": null,
            "grid_gap": null,
            "grid_row": null,
            "grid_template_areas": null,
            "grid_template_columns": null,
            "grid_template_rows": null,
            "height": null,
            "justify_content": null,
            "justify_items": null,
            "left": null,
            "margin": null,
            "max_height": null,
            "max_width": null,
            "min_height": null,
            "min_width": null,
            "object_fit": null,
            "object_position": null,
            "order": null,
            "overflow": null,
            "overflow_x": null,
            "overflow_y": null,
            "padding": null,
            "right": null,
            "top": null,
            "visibility": null,
            "width": null
          }
        },
        "b30d611593914f09aa4130694a2af489": {
          "model_module": "@jupyter-widgets/controls",
          "model_module_version": "1.5.0",
          "model_name": "FloatProgressModel",
          "state": {
            "_dom_classes": [],
            "_model_module": "@jupyter-widgets/controls",
            "_model_module_version": "1.5.0",
            "_model_name": "FloatProgressModel",
            "_view_count": null,
            "_view_module": "@jupyter-widgets/controls",
            "_view_module_version": "1.5.0",
            "_view_name": "ProgressView",
            "bar_style": "success",
            "description": "",
            "description_tooltip": null,
            "layout": "IPY_MODEL_e794bfd91f114632b8c96523379bf705",
            "max": 995526,
            "min": 0,
            "orientation": "horizontal",
            "style": "IPY_MODEL_700b57773de84088a2da7ecf440621cd",
            "value": 995526
          }
        },
        "b7db20bed73c4db8a8ce97f0cdb452a6": {
          "model_module": "@jupyter-widgets/base",
          "model_module_version": "1.2.0",
          "model_name": "LayoutModel",
          "state": {
            "_model_module": "@jupyter-widgets/base",
            "_model_module_version": "1.2.0",
            "_model_name": "LayoutModel",
            "_view_count": null,
            "_view_module": "@jupyter-widgets/base",
            "_view_module_version": "1.2.0",
            "_view_name": "LayoutView",
            "align_content": null,
            "align_items": null,
            "align_self": null,
            "border": null,
            "bottom": null,
            "display": null,
            "flex": null,
            "flex_flow": null,
            "grid_area": null,
            "grid_auto_columns": null,
            "grid_auto_flow": null,
            "grid_auto_rows": null,
            "grid_column": null,
            "grid_gap": null,
            "grid_row": null,
            "grid_template_areas": null,
            "grid_template_columns": null,
            "grid_template_rows": null,
            "height": null,
            "justify_content": null,
            "justify_items": null,
            "left": null,
            "margin": null,
            "max_height": null,
            "max_width": null,
            "min_height": null,
            "min_width": null,
            "object_fit": null,
            "object_position": null,
            "order": null,
            "overflow": null,
            "overflow_x": null,
            "overflow_y": null,
            "padding": null,
            "right": null,
            "top": null,
            "visibility": null,
            "width": null
          }
        },
        "c4550ab0d69e4a118230967b746ca66e": {
          "model_module": "@jupyter-widgets/controls",
          "model_module_version": "1.5.0",
          "model_name": "HTMLModel",
          "state": {
            "_dom_classes": [],
            "_model_module": "@jupyter-widgets/controls",
            "_model_module_version": "1.5.0",
            "_model_name": "HTMLModel",
            "_view_count": null,
            "_view_module": "@jupyter-widgets/controls",
            "_view_module_version": "1.5.0",
            "_view_name": "HTMLView",
            "description": "",
            "description_tooltip": null,
            "layout": "IPY_MODEL_0034b70ef08544c5829d0d42d8cfb124",
            "placeholder": "​",
            "style": "IPY_MODEL_cdc12d18892e4e4590c938e382d8bbd4",
            "value": " 972k/972k [00:00&lt;00:00, 1.30MB/s]"
          }
        },
        "cd78fe47183d458fbcd0bdeb7bbc0910": {
          "model_module": "@jupyter-widgets/controls",
          "model_module_version": "1.5.0",
          "model_name": "ProgressStyleModel",
          "state": {
            "_model_module": "@jupyter-widgets/controls",
            "_model_module_version": "1.5.0",
            "_model_name": "ProgressStyleModel",
            "_view_count": null,
            "_view_module": "@jupyter-widgets/base",
            "_view_module_version": "1.2.0",
            "_view_name": "StyleView",
            "bar_color": null,
            "description_width": ""
          }
        },
        "cdc12d18892e4e4590c938e382d8bbd4": {
          "model_module": "@jupyter-widgets/controls",
          "model_module_version": "1.5.0",
          "model_name": "DescriptionStyleModel",
          "state": {
            "_model_module": "@jupyter-widgets/controls",
            "_model_module_version": "1.5.0",
            "_model_name": "DescriptionStyleModel",
            "_view_count": null,
            "_view_module": "@jupyter-widgets/base",
            "_view_module_version": "1.2.0",
            "_view_name": "StyleView",
            "description_width": ""
          }
        },
        "ce5917a83aff4369a92a3f263025be14": {
          "model_module": "@jupyter-widgets/controls",
          "model_module_version": "1.5.0",
          "model_name": "HTMLModel",
          "state": {
            "_dom_classes": [],
            "_model_module": "@jupyter-widgets/controls",
            "_model_module_version": "1.5.0",
            "_model_name": "HTMLModel",
            "_view_count": null,
            "_view_module": "@jupyter-widgets/controls",
            "_view_module_version": "1.5.0",
            "_view_name": "HTMLView",
            "description": "",
            "description_tooltip": null,
            "layout": "IPY_MODEL_187b9f55f91b40629e57f842a8ff8f71",
            "placeholder": "​",
            "style": "IPY_MODEL_341c068ec12b4b6e88bd7f558da16e68",
            "value": "Downloading: 100%"
          }
        },
        "d1d43510ff574b0e9885d4712b2cef3b": {
          "model_module": "@jupyter-widgets/controls",
          "model_module_version": "1.5.0",
          "model_name": "HBoxModel",
          "state": {
            "_dom_classes": [],
            "_model_module": "@jupyter-widgets/controls",
            "_model_module_version": "1.5.0",
            "_model_name": "HBoxModel",
            "_view_count": null,
            "_view_module": "@jupyter-widgets/controls",
            "_view_module_version": "1.5.0",
            "_view_name": "HBoxView",
            "box_style": "",
            "children": [
              "IPY_MODEL_ce5917a83aff4369a92a3f263025be14",
              "IPY_MODEL_5cb95454cbfb4cd6acadb8fe97a05c66",
              "IPY_MODEL_7853bb2f440c4ad790ba67ff3c602a87"
            ],
            "layout": "IPY_MODEL_e57b3657547f4e2bbe9390b0a590d8a3"
          }
        },
        "d29bd480d58e4417b00ebf42b5df13a7": {
          "model_module": "@jupyter-widgets/base",
          "model_module_version": "1.2.0",
          "model_name": "LayoutModel",
          "state": {
            "_model_module": "@jupyter-widgets/base",
            "_model_module_version": "1.2.0",
            "_model_name": "LayoutModel",
            "_view_count": null,
            "_view_module": "@jupyter-widgets/base",
            "_view_module_version": "1.2.0",
            "_view_name": "LayoutView",
            "align_content": null,
            "align_items": null,
            "align_self": null,
            "border": null,
            "bottom": null,
            "display": null,
            "flex": null,
            "flex_flow": null,
            "grid_area": null,
            "grid_auto_columns": null,
            "grid_auto_flow": null,
            "grid_auto_rows": null,
            "grid_column": null,
            "grid_gap": null,
            "grid_row": null,
            "grid_template_areas": null,
            "grid_template_columns": null,
            "grid_template_rows": null,
            "height": null,
            "justify_content": null,
            "justify_items": null,
            "left": null,
            "margin": null,
            "max_height": null,
            "max_width": null,
            "min_height": null,
            "min_width": null,
            "object_fit": null,
            "object_position": null,
            "order": null,
            "overflow": null,
            "overflow_x": null,
            "overflow_y": null,
            "padding": null,
            "right": null,
            "top": null,
            "visibility": null,
            "width": null
          }
        },
        "db542740a3bb4fa8a0fc1037ee42c4a8": {
          "model_module": "@jupyter-widgets/controls",
          "model_module_version": "1.5.0",
          "model_name": "ProgressStyleModel",
          "state": {
            "_model_module": "@jupyter-widgets/controls",
            "_model_module_version": "1.5.0",
            "_model_name": "ProgressStyleModel",
            "_view_count": null,
            "_view_module": "@jupyter-widgets/base",
            "_view_module_version": "1.2.0",
            "_view_name": "StyleView",
            "bar_color": null,
            "description_width": ""
          }
        },
        "e00504a5a8454c38bdee95ce1bc69ca2": {
          "model_module": "@jupyter-widgets/controls",
          "model_module_version": "1.5.0",
          "model_name": "DescriptionStyleModel",
          "state": {
            "_model_module": "@jupyter-widgets/controls",
            "_model_module_version": "1.5.0",
            "_model_name": "DescriptionStyleModel",
            "_view_count": null,
            "_view_module": "@jupyter-widgets/base",
            "_view_module_version": "1.2.0",
            "_view_name": "StyleView",
            "description_width": ""
          }
        },
        "e293ed884a8847b08ffa61c48819d117": {
          "model_module": "@jupyter-widgets/controls",
          "model_module_version": "1.5.0",
          "model_name": "FloatProgressModel",
          "state": {
            "_dom_classes": [],
            "_model_module": "@jupyter-widgets/controls",
            "_model_module_version": "1.5.0",
            "_model_name": "FloatProgressModel",
            "_view_count": null,
            "_view_module": "@jupyter-widgets/controls",
            "_view_module_version": "1.5.0",
            "_view_name": "ProgressView",
            "bar_style": "success",
            "description": "",
            "description_tooltip": null,
            "layout": "IPY_MODEL_ab915ada792647beb60f49e0cdb0af85",
            "max": 1961828,
            "min": 0,
            "orientation": "horizontal",
            "style": "IPY_MODEL_db542740a3bb4fa8a0fc1037ee42c4a8",
            "value": 1961828
          }
        },
        "e477fa6293694c8aad1e1c24ce64400f": {
          "model_module": "@jupyter-widgets/controls",
          "model_module_version": "1.5.0",
          "model_name": "DescriptionStyleModel",
          "state": {
            "_model_module": "@jupyter-widgets/controls",
            "_model_module_version": "1.5.0",
            "_model_name": "DescriptionStyleModel",
            "_view_count": null,
            "_view_module": "@jupyter-widgets/base",
            "_view_module_version": "1.2.0",
            "_view_name": "StyleView",
            "description_width": ""
          }
        },
        "e57b3657547f4e2bbe9390b0a590d8a3": {
          "model_module": "@jupyter-widgets/base",
          "model_module_version": "1.2.0",
          "model_name": "LayoutModel",
          "state": {
            "_model_module": "@jupyter-widgets/base",
            "_model_module_version": "1.2.0",
            "_model_name": "LayoutModel",
            "_view_count": null,
            "_view_module": "@jupyter-widgets/base",
            "_view_module_version": "1.2.0",
            "_view_name": "LayoutView",
            "align_content": null,
            "align_items": null,
            "align_self": null,
            "border": null,
            "bottom": null,
            "display": null,
            "flex": null,
            "flex_flow": null,
            "grid_area": null,
            "grid_auto_columns": null,
            "grid_auto_flow": null,
            "grid_auto_rows": null,
            "grid_column": null,
            "grid_gap": null,
            "grid_row": null,
            "grid_template_areas": null,
            "grid_template_columns": null,
            "grid_template_rows": null,
            "height": null,
            "justify_content": null,
            "justify_items": null,
            "left": null,
            "margin": null,
            "max_height": null,
            "max_width": null,
            "min_height": null,
            "min_width": null,
            "object_fit": null,
            "object_position": null,
            "order": null,
            "overflow": null,
            "overflow_x": null,
            "overflow_y": null,
            "padding": null,
            "right": null,
            "top": null,
            "visibility": null,
            "width": null
          }
        },
        "e794bfd91f114632b8c96523379bf705": {
          "model_module": "@jupyter-widgets/base",
          "model_module_version": "1.2.0",
          "model_name": "LayoutModel",
          "state": {
            "_model_module": "@jupyter-widgets/base",
            "_model_module_version": "1.2.0",
            "_model_name": "LayoutModel",
            "_view_count": null,
            "_view_module": "@jupyter-widgets/base",
            "_view_module_version": "1.2.0",
            "_view_name": "LayoutView",
            "align_content": null,
            "align_items": null,
            "align_self": null,
            "border": null,
            "bottom": null,
            "display": null,
            "flex": null,
            "flex_flow": null,
            "grid_area": null,
            "grid_auto_columns": null,
            "grid_auto_flow": null,
            "grid_auto_rows": null,
            "grid_column": null,
            "grid_gap": null,
            "grid_row": null,
            "grid_template_areas": null,
            "grid_template_columns": null,
            "grid_template_rows": null,
            "height": null,
            "justify_content": null,
            "justify_items": null,
            "left": null,
            "margin": null,
            "max_height": null,
            "max_width": null,
            "min_height": null,
            "min_width": null,
            "object_fit": null,
            "object_position": null,
            "order": null,
            "overflow": null,
            "overflow_x": null,
            "overflow_y": null,
            "padding": null,
            "right": null,
            "top": null,
            "visibility": null,
            "width": null
          }
        },
        "e93af59cbd6f4fa587138027a7c7bb33": {
          "model_module": "@jupyter-widgets/base",
          "model_module_version": "1.2.0",
          "model_name": "LayoutModel",
          "state": {
            "_model_module": "@jupyter-widgets/base",
            "_model_module_version": "1.2.0",
            "_model_name": "LayoutModel",
            "_view_count": null,
            "_view_module": "@jupyter-widgets/base",
            "_view_module_version": "1.2.0",
            "_view_name": "LayoutView",
            "align_content": null,
            "align_items": null,
            "align_self": null,
            "border": null,
            "bottom": null,
            "display": null,
            "flex": null,
            "flex_flow": null,
            "grid_area": null,
            "grid_auto_columns": null,
            "grid_auto_flow": null,
            "grid_auto_rows": null,
            "grid_column": null,
            "grid_gap": null,
            "grid_row": null,
            "grid_template_areas": null,
            "grid_template_columns": null,
            "grid_template_rows": null,
            "height": null,
            "justify_content": null,
            "justify_items": null,
            "left": null,
            "margin": null,
            "max_height": null,
            "max_width": null,
            "min_height": null,
            "min_width": null,
            "object_fit": null,
            "object_position": null,
            "order": null,
            "overflow": null,
            "overflow_x": null,
            "overflow_y": null,
            "padding": null,
            "right": null,
            "top": null,
            "visibility": null,
            "width": null
          }
        },
        "f08ac3d131514c168379d2ee2ae30528": {
          "model_module": "@jupyter-widgets/controls",
          "model_module_version": "1.5.0",
          "model_name": "FloatProgressModel",
          "state": {
            "_dom_classes": [],
            "_model_module": "@jupyter-widgets/controls",
            "_model_module_version": "1.5.0",
            "_model_name": "FloatProgressModel",
            "_view_count": null,
            "_view_module": "@jupyter-widgets/controls",
            "_view_module_version": "1.5.0",
            "_view_name": "ProgressView",
            "bar_style": "success",
            "description": "",
            "description_tooltip": null,
            "layout": "IPY_MODEL_7bdf099509414e24805e5242e3e3b795",
            "max": 714314041,
            "min": 0,
            "orientation": "horizontal",
            "style": "IPY_MODEL_f905e4e0744941e1a7cbf7f0b0f95db1",
            "value": 714314041
          }
        },
        "f8fc0b945e36441e94b437a070469dd9": {
          "model_module": "@jupyter-widgets/base",
          "model_module_version": "1.2.0",
          "model_name": "LayoutModel",
          "state": {
            "_model_module": "@jupyter-widgets/base",
            "_model_module_version": "1.2.0",
            "_model_name": "LayoutModel",
            "_view_count": null,
            "_view_module": "@jupyter-widgets/base",
            "_view_module_version": "1.2.0",
            "_view_name": "LayoutView",
            "align_content": null,
            "align_items": null,
            "align_self": null,
            "border": null,
            "bottom": null,
            "display": null,
            "flex": null,
            "flex_flow": null,
            "grid_area": null,
            "grid_auto_columns": null,
            "grid_auto_flow": null,
            "grid_auto_rows": null,
            "grid_column": null,
            "grid_gap": null,
            "grid_row": null,
            "grid_template_areas": null,
            "grid_template_columns": null,
            "grid_template_rows": null,
            "height": null,
            "justify_content": null,
            "justify_items": null,
            "left": null,
            "margin": null,
            "max_height": null,
            "max_width": null,
            "min_height": null,
            "min_width": null,
            "object_fit": null,
            "object_position": null,
            "order": null,
            "overflow": null,
            "overflow_x": null,
            "overflow_y": null,
            "padding": null,
            "right": null,
            "top": null,
            "visibility": null,
            "width": null
          }
        },
        "f905e4e0744941e1a7cbf7f0b0f95db1": {
          "model_module": "@jupyter-widgets/controls",
          "model_module_version": "1.5.0",
          "model_name": "ProgressStyleModel",
          "state": {
            "_model_module": "@jupyter-widgets/controls",
            "_model_module_version": "1.5.0",
            "_model_name": "ProgressStyleModel",
            "_view_count": null,
            "_view_module": "@jupyter-widgets/base",
            "_view_module_version": "1.2.0",
            "_view_name": "StyleView",
            "bar_color": null,
            "description_width": ""
          }
        },
        "fbd11eedf9334c97a3324c6ab618a97b": {
          "model_module": "@jupyter-widgets/controls",
          "model_module_version": "1.5.0",
          "model_name": "HTMLModel",
          "state": {
            "_dom_classes": [],
            "_model_module": "@jupyter-widgets/controls",
            "_model_module_version": "1.5.0",
            "_model_name": "HTMLModel",
            "_view_count": null,
            "_view_module": "@jupyter-widgets/controls",
            "_view_module_version": "1.5.0",
            "_view_name": "HTMLView",
            "description": "",
            "description_tooltip": null,
            "layout": "IPY_MODEL_b07caa65352a4a948f9a1b58276f1f56",
            "placeholder": "​",
            "style": "IPY_MODEL_5227367fdbac46219a94f586537cea4e",
            "value": " 1.87M/1.87M [00:00&lt;00:00, 3.96MB/s]"
          }
        }
      }
    }
  },
  "nbformat": 4,
  "nbformat_minor": 0
}
